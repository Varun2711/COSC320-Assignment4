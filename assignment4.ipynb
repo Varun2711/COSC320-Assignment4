{
 "cells": [
  {
   "cell_type": "markdown",
   "metadata": {},
   "source": [
    "# Assignment 4"
   ]
  },
  {
   "cell_type": "markdown",
   "metadata": {},
   "source": [
    "### Names: Reyhan Reginald, Shreya Saxena, Varun Patel"
   ]
  },
  {
   "cell_type": "code",
   "execution_count": 8,
   "metadata": {},
   "outputs": [],
   "source": [
    "prices = {1:1, 2:5, 3:8, 4:9, 5:10, 6:17, 7:17, 8:20, 9:24, 10:30}"
   ]
  },
  {
   "cell_type": "code",
   "execution_count": 9,
   "metadata": {},
   "outputs": [],
   "source": [
    "### naive recursive solution\n",
    "def cut_rod(p, n):\n",
    "    if n == 0:\n",
    "        return 0\n",
    "    q = float('-inf')\n",
    "    for i in range(1,n+1):\n",
    "        q = max(q, p[i] + cut_rod(p, n-i))\n",
    "    return q"
   ]
  },
  {
   "cell_type": "code",
   "execution_count": 10,
   "metadata": {},
   "outputs": [
    {
     "name": "stdout",
     "output_type": "stream",
     "text": [
      "1\n",
      "5\n",
      "8\n",
      "10\n",
      "13\n",
      "17\n",
      "18\n",
      "22\n",
      "25\n",
      "30\n"
     ]
    }
   ],
   "source": [
    "for i in range(1,11):\n",
    "    print(cut_rod(prices, i))"
   ]
  },
  {
   "cell_type": "code",
   "execution_count": 11,
   "metadata": {},
   "outputs": [],
   "source": [
    "### memoized DP solution\n",
    "\n",
    "def memoized_cut_rod_aux(p, n, r):\n",
    "    if r[n] > 0:\n",
    "        return r[n]\n",
    "    if n == 0:\n",
    "        return 0\n",
    "    \n",
    "    q = float('-inf')\n",
    "    for i in range(1, n+1):\n",
    "        q = max(q, p[i] + memoized_cut_rod_aux(p, n-i, r))\n",
    "    r[n] = q\n",
    "    return q\n",
    "\n",
    "def memoized_cut_rod(p, n):\n",
    "    r = list()\n",
    "    for i in range(n+1):\n",
    "        r.append(float('-inf'))\n",
    "    return memoized_cut_rod_aux(p, n, r)\n"
   ]
  },
  {
   "cell_type": "code",
   "execution_count": 12,
   "metadata": {},
   "outputs": [
    {
     "name": "stdout",
     "output_type": "stream",
     "text": [
      "1\n",
      "5\n",
      "8\n",
      "10\n",
      "13\n",
      "17\n",
      "18\n",
      "22\n",
      "25\n",
      "30\n"
     ]
    }
   ],
   "source": [
    "for i in range(1,11):\n",
    "    print(memoized_cut_rod(prices, i))"
   ]
  },
  {
   "cell_type": "code",
   "execution_count": 41,
   "metadata": {},
   "outputs": [],
   "source": [
    "### bottom-up solution\n",
    "def bottom_up_cut_rod(p, n):\n",
    "    r = [-1]*(n+1)\n",
    "    s = [-1]*(n+2)\n",
    "    r[0] = 0\n",
    "    for j in range(1, n+1):\n",
    "        q = float('-inf')\n",
    "        for i in range(1, j+1):\n",
    "            if q < p[i] + r[j-i]:\n",
    "                q = p[i] + r[j-i]\n",
    "                s[j] = i\n",
    "        r[j] = q\n",
    "\n",
    "    x = n\n",
    "    while x > 0:\n",
    "        print(s[x])\n",
    "        x = x - int(s[x])\n",
    "    \n",
    "    return (r, s)\n"
   ]
  },
  {
   "cell_type": "code",
   "execution_count": 55,
   "metadata": {},
   "outputs": [
    {
     "name": "stdout",
     "output_type": "stream",
     "text": [
      "iteration number: 1\n",
      "1\n",
      "Max profit: 1\n",
      "\n",
      "\n",
      "\n",
      "iteration number: 2\n",
      "2\n",
      "Max profit: 5\n",
      "\n",
      "\n",
      "\n",
      "iteration number: 3\n",
      "3\n",
      "Max profit: 8\n",
      "\n",
      "\n",
      "\n",
      "iteration number: 4\n",
      "2\n",
      "2\n",
      "Max profit: 10\n",
      "\n",
      "\n",
      "\n",
      "iteration number: 5\n",
      "2\n",
      "3\n",
      "Max profit: 13\n",
      "\n",
      "\n",
      "\n",
      "iteration number: 6\n",
      "6\n",
      "Max profit: 17\n",
      "\n",
      "\n",
      "\n",
      "iteration number: 7\n",
      "1\n",
      "6\n",
      "Max profit: 18\n",
      "\n",
      "\n",
      "\n",
      "iteration number: 8\n",
      "2\n",
      "6\n",
      "Max profit: 22\n",
      "\n",
      "\n",
      "\n",
      "iteration number: 9\n",
      "3\n",
      "6\n",
      "Max profit: 25\n",
      "\n",
      "\n",
      "\n",
      "iteration number: 10\n",
      "10\n",
      "Max profit: 30\n",
      "\n",
      "\n",
      "\n"
     ]
    }
   ],
   "source": [
    "for i in range(1,11):\n",
    "    print(f'iteration number: {i}')\n",
    "    rev, indices = bottom_up_cut_rod(prices, i)\n",
    "    print(f'Max profit: {rev[-1]}')\n",
    "    print('\\n\\n')\n"
   ]
  },
  {
   "cell_type": "code",
   "execution_count": 56,
   "metadata": {},
   "outputs": [
    {
     "name": "stdout",
     "output_type": "stream",
     "text": [
      "Maximum obtainable value: 9\n"
     ]
    },
    {
     "ename": "KeyError",
     "evalue": "0",
     "output_type": "error",
     "traceback": [
      "\u001b[1;31m---------------------------------------------------------------------------\u001b[0m",
      "\u001b[1;31mKeyError\u001b[0m                                  Traceback (most recent call last)",
      "Cell \u001b[1;32mIn[56], line 32\u001b[0m\n\u001b[0;32m     30\u001b[0m size \u001b[38;5;241m=\u001b[39m \u001b[38;5;241m4\u001b[39m\n\u001b[0;32m     31\u001b[0m \u001b[38;5;28mprint\u001b[39m(\u001b[38;5;124m\"\u001b[39m\u001b[38;5;124mMaximum obtainable value:\u001b[39m\u001b[38;5;124m\"\u001b[39m, vanshikas_cut_rod(prices, size))\n\u001b[1;32m---> 32\u001b[0m cuts \u001b[38;5;241m=\u001b[39m \u001b[43mrod_cutting_solution\u001b[49m\u001b[43m(\u001b[49m\u001b[43mprices\u001b[49m\u001b[43m,\u001b[49m\u001b[43m \u001b[49m\u001b[43msize\u001b[49m\u001b[43m)\u001b[49m\n\u001b[0;32m     33\u001b[0m \u001b[38;5;28mprint\u001b[39m(\u001b[38;5;124m\"\u001b[39m\u001b[38;5;124mCuts to obtain maximum value:\u001b[39m\u001b[38;5;124m\"\u001b[39m)\n\u001b[0;32m     34\u001b[0m print_solution(cuts)\n",
      "Cell \u001b[1;32mIn[56], line 18\u001b[0m, in \u001b[0;36mrod_cutting_solution\u001b[1;34m(p, n)\u001b[0m\n\u001b[0;32m     16\u001b[0m max_val \u001b[38;5;241m=\u001b[39m \u001b[38;5;28mfloat\u001b[39m(\u001b[38;5;124m'\u001b[39m\u001b[38;5;124m-inf\u001b[39m\u001b[38;5;124m'\u001b[39m)\n\u001b[0;32m     17\u001b[0m \u001b[38;5;28;01mfor\u001b[39;00m j \u001b[38;5;129;01min\u001b[39;00m \u001b[38;5;28mrange\u001b[39m(i):\n\u001b[1;32m---> 18\u001b[0m     \u001b[38;5;28;01mif\u001b[39;00m \u001b[43mp\u001b[49m\u001b[43m[\u001b[49m\u001b[43mj\u001b[49m\u001b[43m]\u001b[49m \u001b[38;5;241m+\u001b[39m cuts[i \u001b[38;5;241m-\u001b[39m j \u001b[38;5;241m-\u001b[39m \u001b[38;5;241m1\u001b[39m] \u001b[38;5;241m>\u001b[39m max_val:\n\u001b[0;32m     19\u001b[0m         max_val \u001b[38;5;241m=\u001b[39m p[j] \u001b[38;5;241m+\u001b[39m cuts[i \u001b[38;5;241m-\u001b[39m j \u001b[38;5;241m-\u001b[39m \u001b[38;5;241m1\u001b[39m]\n\u001b[0;32m     20\u001b[0m         cuts[i] \u001b[38;5;241m=\u001b[39m j \u001b[38;5;241m+\u001b[39m \u001b[38;5;241m1\u001b[39m\n",
      "\u001b[1;31mKeyError\u001b[0m: 0"
     ]
    }
   ],
   "source": [
    "#vanshika's soln\n",
    "\n",
    "prices = {1:1, 2:5, 3:8, 4:9, 5:10, 6:17, 7:17, 8:20, 9:24, 10:30}\n",
    "\n",
    "def vanshikas_cut_rod(p, n):\n",
    "    if n <= 0:\n",
    "        return 0\n",
    "    max_val = float('-inf')\n",
    "    for i in range(1,n+1):\n",
    "        max_val = max(max_val, p[i] + vanshikas_cut_rod(p, n - i - 1))\n",
    "    return max_val\n",
    "\n",
    "def rod_cutting_solution(p, n):\n",
    "    cuts = [0] * (n + 1)\n",
    "    for i in range(1, n + 1):\n",
    "        max_val = float('-inf')\n",
    "        for j in range(i):\n",
    "            if p[j] + cuts[i - j - 1] > max_val:\n",
    "                max_val = p[j] + cuts[i - j - 1]\n",
    "                cuts[i] = j + 1\n",
    "    return cuts\n",
    "\n",
    "def print_solution(cuts):\n",
    "    while cuts[-1] != 0:\n",
    "        print(cuts[-1])\n",
    "        cuts = cuts[:-cuts[-1]]\n",
    "\n",
    "# Example usage:\n",
    "\n",
    "size = 4\n",
    "print(\"Maximum obtainable value:\", vanshikas_cut_rod(prices, size))\n",
    "cuts = rod_cutting_solution(prices, size)\n",
    "print(\"Cuts to obtain maximum value:\")\n",
    "print_solution(cuts)"
   ]
  },
  {
   "cell_type": "code",
   "execution_count": null,
   "metadata": {},
   "outputs": [],
   "source": []
  }
 ],
 "metadata": {
  "kernelspec": {
   "display_name": "Python 3",
   "language": "python",
   "name": "python3"
  },
  "language_info": {
   "codemirror_mode": {
    "name": "ipython",
    "version": 3
   },
   "file_extension": ".py",
   "mimetype": "text/x-python",
   "name": "python",
   "nbconvert_exporter": "python",
   "pygments_lexer": "ipython3",
   "version": "3.11.7"
  }
 },
 "nbformat": 4,
 "nbformat_minor": 2
}
