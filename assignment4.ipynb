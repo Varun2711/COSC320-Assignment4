{
 "cells": [
  {
   "cell_type": "markdown",
   "metadata": {},
   "source": [
    "# Assignment 4"
   ]
  },
  {
   "cell_type": "markdown",
   "metadata": {},
   "source": [
    "### Names: Reyhan Reginald, Shreya Saxena, Varun Patel"
   ]
  },
  {
   "cell_type": "code",
   "execution_count": 59,
   "metadata": {},
   "outputs": [],
   "source": [
    "prices = {1:1, 2:5, 3:8, 4:9, 5:10, 6:17, 7:17, 8:20, 9:24, 10:30}"
   ]
  },
  {
   "cell_type": "code",
   "execution_count": 60,
   "metadata": {},
   "outputs": [],
   "source": [
    "### naive recursive solution\n",
    "def cut_rod(p, n):\n",
    "    if n == 0:\n",
    "        return 0\n",
    "    q = float('-inf')\n",
    "    for i in range(1,n+1):\n",
    "        q = max(q, p[i] + cut_rod(p, n-i))\n",
    "    return q"
   ]
  },
  {
   "cell_type": "code",
   "execution_count": 61,
   "metadata": {},
   "outputs": [
    {
     "name": "stdout",
     "output_type": "stream",
     "text": [
      "1\n",
      "5\n",
      "8\n",
      "10\n",
      "13\n",
      "17\n",
      "18\n",
      "22\n",
      "25\n",
      "30\n"
     ]
    }
   ],
   "source": [
    "for i in range(1,11):\n",
    "    print(cut_rod(prices, i))"
   ]
  },
  {
   "cell_type": "code",
   "execution_count": 62,
   "metadata": {},
   "outputs": [],
   "source": [
    "### memoized DP solution\n",
    "\n",
    "def memoized_cut_rod_aux(p, n, r):\n",
    "    if r[n] > 0:\n",
    "        return r[n]\n",
    "    if n == 0:\n",
    "        return 0\n",
    "    \n",
    "    q = float('-inf')\n",
    "    for i in range(1, n+1):\n",
    "        q = max(q, p[i] + memoized_cut_rod_aux(p, n-i, r))\n",
    "    r[n] = q\n",
    "    return q\n",
    "\n",
    "def memoized_cut_rod(p, n):\n",
    "    r = list()\n",
    "    for i in range(n+1):\n",
    "        r.append(float('-inf'))\n",
    "    return memoized_cut_rod_aux(p, n, r)\n"
   ]
  },
  {
   "cell_type": "code",
   "execution_count": 63,
   "metadata": {},
   "outputs": [
    {
     "name": "stdout",
     "output_type": "stream",
     "text": [
      "1\n",
      "5\n",
      "8\n",
      "10\n",
      "13\n",
      "17\n",
      "18\n",
      "22\n",
      "25\n",
      "30\n"
     ]
    }
   ],
   "source": [
    "for i in range(1,11):\n",
    "    print(memoized_cut_rod(prices, i))"
   ]
  },
  {
   "cell_type": "code",
   "execution_count": 64,
   "metadata": {},
   "outputs": [],
   "source": [
    "### bottom-up solution\n",
    "def bottom_up_cut_rod(p, n):\n",
    "    r = [-1]*(n+1)\n",
    "    s = [-1]*(n+2)\n",
    "    r[0] = 0\n",
    "    for j in range(1, n+1):\n",
    "        q = float('-inf')\n",
    "        for i in range(1, j+1):\n",
    "            if q < p[i] + r[j-i]:\n",
    "                q = p[i] + r[j-i]\n",
    "                s[j] = i\n",
    "        r[j] = q\n",
    "\n",
    "    x = n\n",
    "    while x > 0:\n",
    "        print(s[x])\n",
    "        x = x - int(s[x])\n",
    "    \n",
    "    return (r, s)\n"
   ]
  },
  {
   "cell_type": "code",
   "execution_count": 65,
   "metadata": {},
   "outputs": [
    {
     "name": "stdout",
     "output_type": "stream",
     "text": [
      "iteration number: 1\n",
      "1\n",
      "Max profit: 1\n",
      "\n",
      "\n",
      "\n",
      "iteration number: 2\n",
      "2\n",
      "Max profit: 5\n",
      "\n",
      "\n",
      "\n",
      "iteration number: 3\n",
      "3\n",
      "Max profit: 8\n",
      "\n",
      "\n",
      "\n",
      "iteration number: 4\n",
      "2\n",
      "2\n",
      "Max profit: 10\n",
      "\n",
      "\n",
      "\n",
      "iteration number: 5\n",
      "2\n",
      "3\n",
      "Max profit: 13\n",
      "\n",
      "\n",
      "\n",
      "iteration number: 6\n",
      "6\n",
      "Max profit: 17\n",
      "\n",
      "\n",
      "\n",
      "iteration number: 7\n",
      "1\n",
      "6\n",
      "Max profit: 18\n",
      "\n",
      "\n",
      "\n",
      "iteration number: 8\n",
      "2\n",
      "6\n",
      "Max profit: 22\n",
      "\n",
      "\n",
      "\n",
      "iteration number: 9\n",
      "3\n",
      "6\n",
      "Max profit: 25\n",
      "\n",
      "\n",
      "\n",
      "iteration number: 10\n",
      "10\n",
      "Max profit: 30\n",
      "\n",
      "\n",
      "\n"
     ]
    }
   ],
   "source": [
    "for i in range(1,11):\n",
    "    print(f'iteration number: {i}')\n",
    "    rev, indices = bottom_up_cut_rod(prices, i)\n",
    "    print(f'Max profit: {rev[-1]}')\n",
    "    print('\\n\\n')\n"
   ]
  },
  {
   "cell_type": "code",
   "execution_count": null,
   "metadata": {},
   "outputs": [],
   "source": []
  }
 ],
 "metadata": {
  "kernelspec": {
   "display_name": "Python 3",
   "language": "python",
   "name": "python3"
  },
  "language_info": {
   "codemirror_mode": {
    "name": "ipython",
    "version": 3
   },
   "file_extension": ".py",
   "mimetype": "text/x-python",
   "name": "python",
   "nbconvert_exporter": "python",
   "pygments_lexer": "ipython3",
   "version": "3.11.7"
  }
 },
 "nbformat": 4,
 "nbformat_minor": 2
}
